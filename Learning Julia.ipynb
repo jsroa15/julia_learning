{
 "cells": [
  {
   "cell_type": "markdown",
   "id": "brief-attendance",
   "metadata": {},
   "source": [
    "# Arrays, vectors and matrix"
   ]
  },
  {
   "cell_type": "code",
   "execution_count": 1,
   "id": "partial-performance",
   "metadata": {},
   "outputs": [
    {
     "data": {
      "text/plain": [
       "4-element Vector{Int64}:\n",
       " 1\n",
       " 2\n",
       " 3\n",
       " 4"
      ]
     },
     "execution_count": 1,
     "metadata": {},
     "output_type": "execute_result"
    }
   ],
   "source": [
    "array1= [1,2,3,4]"
   ]
  },
  {
   "cell_type": "code",
   "execution_count": 8,
   "id": "hindu-cyprus",
   "metadata": {},
   "outputs": [
    {
     "data": {
      "text/plain": [
       "3-element Vector{Float16}:\n",
       " 2.0\n",
       " 3.0\n",
       " 4.0"
      ]
     },
     "execution_count": 8,
     "metadata": {},
     "output_type": "execute_result"
    }
   ],
   "source": [
    "array1 = Float16[2,3,4]"
   ]
  },
  {
   "cell_type": "code",
   "execution_count": 6,
   "id": "offensive-collectible",
   "metadata": {},
   "outputs": [
    {
     "data": {
      "text/plain": [
       "2×4 Matrix{Int64}:\n",
       " 1  2  3  4\n",
       " 5  6  7  8"
      ]
     },
     "execution_count": 6,
     "metadata": {},
     "output_type": "execute_result"
    }
   ],
   "source": [
    "array2=[1 2 3 4;5 6 7 8]"
   ]
  },
  {
   "cell_type": "markdown",
   "id": "arranged-trustee",
   "metadata": {},
   "source": [
    "# Ranges"
   ]
  },
  {
   "cell_type": "code",
   "execution_count": 9,
   "id": "comparable-brave",
   "metadata": {},
   "outputs": [
    {
     "data": {
      "text/plain": [
       "8-element Vector{Int64}:\n",
       " 1\n",
       " 2\n",
       " 3\n",
       " 4\n",
       " 5\n",
       " 6\n",
       " 7\n",
       " 8"
      ]
     },
     "execution_count": 9,
     "metadata": {},
     "output_type": "execute_result"
    }
   ],
   "source": [
    "collect(1:8)"
   ]
  },
  {
   "cell_type": "code",
   "execution_count": 11,
   "id": "second-surveillance",
   "metadata": {},
   "outputs": [
    {
     "data": {
      "text/plain": [
       "5-element Vector{Int64}:\n",
       " 0\n",
       " 2\n",
       " 4\n",
       " 6\n",
       " 8"
      ]
     },
     "execution_count": 11,
     "metadata": {},
     "output_type": "execute_result"
    }
   ],
   "source": [
    "collect(0:2:8)"
   ]
  },
  {
   "cell_type": "code",
   "execution_count": 12,
   "id": "elder-quick",
   "metadata": {},
   "outputs": [
    {
     "data": {
      "text/plain": [
       "6-element Vector{Int64}:\n",
       " 100\n",
       "  80\n",
       "  60\n",
       "  40\n",
       "  20\n",
       "   0"
      ]
     },
     "execution_count": 12,
     "metadata": {},
     "output_type": "execute_result"
    }
   ],
   "source": [
    "collect(100:-20:0)"
   ]
  },
  {
   "cell_type": "markdown",
   "id": "traditional-conspiracy",
   "metadata": {},
   "source": [
    "# Tuples"
   ]
  },
  {
   "cell_type": "code",
   "execution_count": 13,
   "id": "positive-luxembourg",
   "metadata": {},
   "outputs": [
    {
     "data": {
      "text/plain": [
       "(Science = (90, 100), Maths = (80, 90), English = (85, 95))"
      ]
     },
     "execution_count": 13,
     "metadata": {},
     "output_type": "execute_result"
    }
   ],
   "source": [
    "marks = (Science=(90,100), Maths=(80,90), English=(85,95))"
   ]
  },
  {
   "cell_type": "code",
   "execution_count": 14,
   "id": "obvious-serbia",
   "metadata": {},
   "outputs": [
    {
     "data": {
      "text/plain": [
       "(90, 100)"
      ]
     },
     "execution_count": 14,
     "metadata": {},
     "output_type": "execute_result"
    }
   ],
   "source": [
    "marks.Science"
   ]
  },
  {
   "cell_type": "code",
   "execution_count": 15,
   "id": "blond-suffering",
   "metadata": {},
   "outputs": [
    {
     "data": {
      "text/plain": [
       "(80, 90)"
      ]
     },
     "execution_count": 15,
     "metadata": {},
     "output_type": "execute_result"
    }
   ],
   "source": [
    "marks.Maths"
   ]
  },
  {
   "cell_type": "code",
   "execution_count": 17,
   "id": "overhead-clause",
   "metadata": {},
   "outputs": [
    {
     "data": {
      "text/plain": [
       "85"
      ]
     },
     "execution_count": 17,
     "metadata": {},
     "output_type": "execute_result"
    }
   ],
   "source": [
    "marks.English[1]"
   ]
  },
  {
   "cell_type": "markdown",
   "id": "descending-porter",
   "metadata": {},
   "source": [
    "# Dictionaries"
   ]
  },
  {
   "cell_type": "code",
   "execution_count": 18,
   "id": "adjacent-match",
   "metadata": {},
   "outputs": [
    {
     "data": {
      "text/plain": [
       "Dict{String, Int64} with 2 entries:\n",
       "  \"car1\" => 2000\n",
       "  \"car2\" => 3000"
      ]
     },
     "execution_count": 18,
     "metadata": {},
     "output_type": "execute_result"
    }
   ],
   "source": [
    "cars = Dict(\"car1\"=>2000,\"car2\"=>3000)"
   ]
  },
  {
   "cell_type": "code",
   "execution_count": 20,
   "id": "threatened-completion",
   "metadata": {},
   "outputs": [
    {
     "data": {
      "text/plain": [
       "2000"
      ]
     },
     "execution_count": 20,
     "metadata": {},
     "output_type": "execute_result"
    }
   ],
   "source": [
    "cars[\"car1\"]"
   ]
  },
  {
   "cell_type": "code",
   "execution_count": 21,
   "id": "confused-north",
   "metadata": {},
   "outputs": [
    {
     "data": {
      "text/plain": [
       "true"
      ]
     },
     "execution_count": 21,
     "metadata": {},
     "output_type": "execute_result"
    }
   ],
   "source": [
    "# Function to check if dictionary has a particular key\n",
    "haskey(cars,\"car1\")"
   ]
  },
  {
   "cell_type": "code",
   "execution_count": 22,
   "id": "broke-malaysia",
   "metadata": {},
   "outputs": [
    {
     "data": {
      "text/plain": [
       "Dict{String, Int64} with 1 entry:\n",
       "  \"car2\" => 3000"
      ]
     },
     "execution_count": 22,
     "metadata": {},
     "output_type": "execute_result"
    }
   ],
   "source": [
    "# Delete key and value from a dictionary\n",
    "delete!(cars,\"car1\")"
   ]
  },
  {
   "cell_type": "code",
   "execution_count": 23,
   "id": "complete-smith",
   "metadata": {},
   "outputs": [
    {
     "data": {
      "text/plain": [
       "KeySet for a Dict{String, Int64} with 1 entry. Keys:\n",
       "  \"car2\""
      ]
     },
     "execution_count": 23,
     "metadata": {},
     "output_type": "execute_result"
    }
   ],
   "source": [
    "keys(cars)"
   ]
  },
  {
   "cell_type": "code",
   "execution_count": 24,
   "id": "diverse-middle",
   "metadata": {},
   "outputs": [
    {
     "data": {
      "text/plain": [
       "ValueIterator for a Dict{String, Int64} with 1 entry. Values:\n",
       "  3000"
      ]
     },
     "execution_count": 24,
     "metadata": {},
     "output_type": "execute_result"
    }
   ],
   "source": [
    "values(cars)"
   ]
  },
  {
   "cell_type": "markdown",
   "id": "central-stream",
   "metadata": {},
   "source": [
    "# Sets"
   ]
  },
  {
   "cell_type": "code",
   "execution_count": 25,
   "id": "regulation-finding",
   "metadata": {},
   "outputs": [
    {
     "data": {
      "text/plain": [
       "Set{String} with 3 elements:\n",
       "  \"Hersheys\"\n",
       "  \"Jet\"\n",
       "  \"Ferrero\""
      ]
     },
     "execution_count": 25,
     "metadata": {},
     "output_type": "execute_result"
    }
   ],
   "source": [
    "brands=Set([\"Ferrero\", \"Jet\", \"Hersheys\"])"
   ]
  },
  {
   "cell_type": "code",
   "execution_count": 26,
   "id": "delayed-physics",
   "metadata": {},
   "outputs": [
    {
     "data": {
      "text/plain": [
       "Set{String} with 4 elements:\n",
       "  \"Lyndt\"\n",
       "  \"Ferrera\"\n",
       "  \"National\"\n",
       "  \"Jet\""
      ]
     },
     "execution_count": 26,
     "metadata": {},
     "output_type": "execute_result"
    }
   ],
   "source": [
    "brands2 = Set([\"Ferrera\",\"National\",\"Lyndt\", \"Jet\"])"
   ]
  },
  {
   "cell_type": "code",
   "execution_count": 27,
   "id": "experimental-interim",
   "metadata": {},
   "outputs": [
    {
     "data": {
      "text/plain": [
       "Set{String} with 6 elements:\n",
       "  \"Hersheys\"\n",
       "  \"Lyndt\"\n",
       "  \"Ferrera\"\n",
       "  \"National\"\n",
       "  \"Jet\"\n",
       "  \"Ferrero\""
      ]
     },
     "execution_count": 27,
     "metadata": {},
     "output_type": "execute_result"
    }
   ],
   "source": [
    "union(brands, brands2)"
   ]
  },
  {
   "cell_type": "code",
   "execution_count": 28,
   "id": "vertical-breach",
   "metadata": {},
   "outputs": [
    {
     "data": {
      "text/plain": [
       "Set{String} with 1 element:\n",
       "  \"Jet\""
      ]
     },
     "execution_count": 28,
     "metadata": {},
     "output_type": "execute_result"
    }
   ],
   "source": [
    "intersect(brands, brands2)"
   ]
  },
  {
   "cell_type": "code",
   "execution_count": 29,
   "id": "southern-lebanon",
   "metadata": {},
   "outputs": [
    {
     "data": {
      "text/plain": [
       "Set{String} with 2 elements:\n",
       "  \"Hersheys\"\n",
       "  \"Ferrero\""
      ]
     },
     "execution_count": 29,
     "metadata": {},
     "output_type": "execute_result"
    }
   ],
   "source": [
    "setdiff(brands,brands2)"
   ]
  },
  {
   "cell_type": "code",
   "execution_count": 30,
   "id": "copyrighted-sauce",
   "metadata": {},
   "outputs": [
    {
     "data": {
      "text/plain": [
       "Set{String} with 3 elements:\n",
       "  \"Lyndt\"\n",
       "  \"Ferrera\"\n",
       "  \"National\""
      ]
     },
     "execution_count": 30,
     "metadata": {},
     "output_type": "execute_result"
    }
   ],
   "source": [
    "setdiff(brands2,brands)"
   ]
  },
  {
   "cell_type": "code",
   "execution_count": 31,
   "id": "illegal-profession",
   "metadata": {},
   "outputs": [
    {
     "data": {
      "text/plain": [
       "Set{String} with 4 elements:\n",
       "  \"Hersheys\"\n",
       "  \"Crunch\"\n",
       "  \"Jet\"\n",
       "  \"Ferrero\""
      ]
     },
     "execution_count": 31,
     "metadata": {},
     "output_type": "execute_result"
    }
   ],
   "source": [
    "# Add new item in Set\n",
    "push!(brands,\"Crunch\")"
   ]
  },
  {
   "cell_type": "markdown",
   "id": "lovely-giant",
   "metadata": {},
   "source": [
    "# Working with date and time"
   ]
  },
  {
   "cell_type": "code",
   "execution_count": 32,
   "id": "linear-lodging",
   "metadata": {},
   "outputs": [],
   "source": [
    "using Dates"
   ]
  },
  {
   "cell_type": "code",
   "execution_count": 33,
   "id": "common-smith",
   "metadata": {},
   "outputs": [
    {
     "data": {
      "text/plain": [
       "2022-05-20T15:46:38.100"
      ]
     },
     "execution_count": 33,
     "metadata": {},
     "output_type": "execute_result"
    }
   ],
   "source": [
    "now()"
   ]
  },
  {
   "cell_type": "code",
   "execution_count": 34,
   "id": "solid-digit",
   "metadata": {},
   "outputs": [
    {
     "data": {
      "text/plain": [
       "2022-05-20T19:46:50.887"
      ]
     },
     "execution_count": 34,
     "metadata": {},
     "output_type": "execute_result"
    }
   ],
   "source": [
    "now(UTC)"
   ]
  },
  {
   "cell_type": "code",
   "execution_count": 35,
   "id": "binary-bumper",
   "metadata": {},
   "outputs": [
    {
     "data": {
      "text/plain": [
       "20"
      ]
     },
     "execution_count": 35,
     "metadata": {},
     "output_type": "execute_result"
    }
   ],
   "source": [
    "day(now())"
   ]
  },
  {
   "cell_type": "code",
   "execution_count": 36,
   "id": "architectural-cradle",
   "metadata": {},
   "outputs": [
    {
     "data": {
      "text/plain": [
       "\"Friday\""
      ]
     },
     "execution_count": 36,
     "metadata": {},
     "output_type": "execute_result"
    }
   ],
   "source": [
    "dayname(now())"
   ]
  },
  {
   "cell_type": "code",
   "execution_count": 37,
   "id": "similar-lounge",
   "metadata": {},
   "outputs": [
    {
     "data": {
      "text/plain": [
       "5"
      ]
     },
     "execution_count": 37,
     "metadata": {},
     "output_type": "execute_result"
    }
   ],
   "source": [
    "month(now())"
   ]
  },
  {
   "cell_type": "code",
   "execution_count": 38,
   "id": "acting-reading",
   "metadata": {},
   "outputs": [
    {
     "data": {
      "text/plain": [
       "\"May\""
      ]
     },
     "execution_count": 38,
     "metadata": {},
     "output_type": "execute_result"
    }
   ],
   "source": [
    "monthname(now())"
   ]
  },
  {
   "cell_type": "code",
   "execution_count": 40,
   "id": "therapeutic-brooklyn",
   "metadata": {},
   "outputs": [
    {
     "data": {
      "text/plain": [
       "2000-05-20"
      ]
     },
     "execution_count": 40,
     "metadata": {},
     "output_type": "execute_result"
    }
   ],
   "source": [
    "birthdate = Date(2000,5,20)"
   ]
  },
  {
   "cell_type": "code",
   "execution_count": 42,
   "id": "auburn-structure",
   "metadata": {},
   "outputs": [
    {
     "data": {
      "text/plain": [
       "15"
      ]
     },
     "execution_count": 42,
     "metadata": {},
     "output_type": "execute_result"
    }
   ],
   "source": [
    "hour(now())"
   ]
  },
  {
   "cell_type": "code",
   "execution_count": 43,
   "id": "recorded-relaxation",
   "metadata": {},
   "outputs": [
    {
     "data": {
      "text/plain": [
       "49"
      ]
     },
     "execution_count": 43,
     "metadata": {},
     "output_type": "execute_result"
    }
   ],
   "source": [
    "minute(now())"
   ]
  },
  {
   "cell_type": "code",
   "execution_count": 44,
   "id": "thirty-nylon",
   "metadata": {},
   "outputs": [
    {
     "data": {
      "text/plain": [
       "26"
      ]
     },
     "execution_count": 44,
     "metadata": {},
     "output_type": "execute_result"
    }
   ],
   "source": [
    "second(now())"
   ]
  },
  {
   "cell_type": "code",
   "execution_count": 45,
   "id": "scheduled-decrease",
   "metadata": {},
   "outputs": [
    {
     "data": {
      "text/plain": [
       "5"
      ]
     },
     "execution_count": 45,
     "metadata": {},
     "output_type": "execute_result"
    }
   ],
   "source": [
    "dayofweek(now())"
   ]
  },
  {
   "cell_type": "code",
   "execution_count": 46,
   "id": "hidden-trademark",
   "metadata": {},
   "outputs": [
    {
     "data": {
      "text/plain": [
       "50"
      ]
     },
     "execution_count": 46,
     "metadata": {},
     "output_type": "execute_result"
    }
   ],
   "source": [
    "dayofquarter(now())"
   ]
  },
  {
   "cell_type": "code",
   "execution_count": 47,
   "id": "sixth-financing",
   "metadata": {},
   "outputs": [
    {
     "data": {
      "text/plain": [
       "31"
      ]
     },
     "execution_count": 47,
     "metadata": {},
     "output_type": "execute_result"
    }
   ],
   "source": [
    "daysinmonth(now())"
   ]
  },
  {
   "cell_type": "code",
   "execution_count": 48,
   "id": "acting-charlotte",
   "metadata": {},
   "outputs": [
    {
     "data": {
      "text/plain": [
       "2022-05-20T15:52:40.706"
      ]
     },
     "execution_count": 48,
     "metadata": {},
     "output_type": "execute_result"
    }
   ],
   "source": [
    "now()"
   ]
  },
  {
   "cell_type": "code",
   "execution_count": 50,
   "id": "focused-triumph",
   "metadata": {},
   "outputs": [
    {
     "data": {
      "text/plain": [
       "dateformat\"dd-mm-yyyy\""
      ]
     },
     "execution_count": 50,
     "metadata": {},
     "output_type": "execute_result"
    }
   ],
   "source": [
    "date_format=DateFormat(\"dd-mm-yyyy\")"
   ]
  },
  {
   "cell_type": "code",
   "execution_count": 51,
   "id": "democratic-annual",
   "metadata": {},
   "outputs": [
    {
     "data": {
      "text/plain": [
       "\"20-05-2022\""
      ]
     },
     "execution_count": 51,
     "metadata": {},
     "output_type": "execute_result"
    }
   ],
   "source": [
    "Dates.format(now(),date_format)"
   ]
  },
  {
   "cell_type": "markdown",
   "id": "steady-merchant",
   "metadata": {},
   "source": [
    "# Conditionals"
   ]
  },
  {
   "cell_type": "code",
   "execution_count": 52,
   "id": "national-associate",
   "metadata": {},
   "outputs": [
    {
     "data": {
      "text/plain": [
       "true"
      ]
     },
     "execution_count": 52,
     "metadata": {},
     "output_type": "execute_result"
    }
   ],
   "source": [
    "# OR operator\n",
    "\n",
    "a=5\n",
    "b=3\n",
    "\n",
    "a>3 || b>3"
   ]
  },
  {
   "cell_type": "code",
   "execution_count": null,
   "id": "afraid-stake",
   "metadata": {},
   "outputs": [],
   "source": [
    "# AND operator"
   ]
  },
  {
   "cell_type": "code",
   "execution_count": 53,
   "id": "reliable-acrylic",
   "metadata": {},
   "outputs": [
    {
     "data": {
      "text/plain": [
       "false"
      ]
     },
     "execution_count": 53,
     "metadata": {},
     "output_type": "execute_result"
    }
   ],
   "source": [
    "a>3 && b>3"
   ]
  },
  {
   "cell_type": "code",
   "execution_count": 55,
   "id": "satisfied-cologne",
   "metadata": {},
   "outputs": [
    {
     "name": "stdout",
     "output_type": "stream",
     "text": [
      "another yes\n"
     ]
    }
   ],
   "source": [
    "if a>5\n",
    "    println(\"yes\")\n",
    "elseif b==3\n",
    "    println(\"another yes\")\n",
    "else\n",
    "    println(\"nope\")\n",
    "end"
   ]
  },
  {
   "cell_type": "markdown",
   "id": "resident-zimbabwe",
   "metadata": {},
   "source": [
    "# Loops"
   ]
  },
  {
   "cell_type": "code",
   "execution_count": null,
   "id": "legislative-hawaii",
   "metadata": {},
   "outputs": [],
   "source": []
  },
  {
   "cell_type": "code",
   "execution_count": null,
   "id": "supreme-correlation",
   "metadata": {},
   "outputs": [],
   "source": []
  },
  {
   "cell_type": "code",
   "execution_count": null,
   "id": "incident-curtis",
   "metadata": {},
   "outputs": [],
   "source": []
  },
  {
   "cell_type": "code",
   "execution_count": null,
   "id": "seasonal-validity",
   "metadata": {},
   "outputs": [],
   "source": []
  },
  {
   "cell_type": "code",
   "execution_count": null,
   "id": "tight-jimmy",
   "metadata": {},
   "outputs": [],
   "source": []
  },
  {
   "cell_type": "code",
   "execution_count": null,
   "id": "together-criminal",
   "metadata": {},
   "outputs": [],
   "source": []
  },
  {
   "cell_type": "code",
   "execution_count": null,
   "id": "powerful-kruger",
   "metadata": {},
   "outputs": [],
   "source": []
  },
  {
   "cell_type": "code",
   "execution_count": null,
   "id": "minor-hollywood",
   "metadata": {},
   "outputs": [],
   "source": []
  },
  {
   "cell_type": "code",
   "execution_count": null,
   "id": "academic-insertion",
   "metadata": {},
   "outputs": [],
   "source": []
  },
  {
   "cell_type": "code",
   "execution_count": null,
   "id": "regulated-review",
   "metadata": {},
   "outputs": [],
   "source": []
  }
 ],
 "metadata": {
  "kernelspec": {
   "display_name": "Julia 1.7.2",
   "language": "julia",
   "name": "julia-1.7"
  },
  "language_info": {
   "file_extension": ".jl",
   "mimetype": "application/julia",
   "name": "julia",
   "version": "1.7.2"
  }
 },
 "nbformat": 4,
 "nbformat_minor": 5
}
